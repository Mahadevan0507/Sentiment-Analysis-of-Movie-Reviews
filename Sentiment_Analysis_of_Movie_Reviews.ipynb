{
  "metadata": {
    "kernelspec": {
      "language": "python",
      "display_name": "Python 3",
      "name": "python3"
    },
    "language_info": {
      "name": "python",
      "version": "3.10.13",
      "mimetype": "text/x-python",
      "codemirror_mode": {
        "name": "ipython",
        "version": 3
      },
      "pygments_lexer": "ipython3",
      "nbconvert_exporter": "python",
      "file_extension": ".py"
    },
    "kaggle": {
      "accelerator": "none",
      "dataSources": [
        {
          "sourceId": 8143731,
          "sourceType": "datasetVersion",
          "datasetId": 4815310
        }
      ],
      "dockerImageVersionId": 30732,
      "isInternetEnabled": false,
      "language": "python",
      "sourceType": "notebook",
      "isGpuEnabled": false
    },
    "colab": {
      "name": "Sentiment Analysis of Movie Reviews",
      "provenance": [],
      "include_colab_link": true
    }
  },
  "nbformat_minor": 0,
  "nbformat": 4,
  "cells": [
    {
      "cell_type": "markdown",
      "metadata": {
        "id": "view-in-github",
        "colab_type": "text"
      },
      "source": [
        "<a href=\"https://colab.research.google.com/github/Mahadevan0507/Sentiment-Analysis-of-Movie-Reviews/blob/main/Sentiment_Analysis_of_Movie_Reviews.ipynb\" target=\"_parent\"><img src=\"https://colab.research.google.com/assets/colab-badge.svg\" alt=\"Open In Colab\"/></a>"
      ]
    },
    {
      "source": [
        "\n",
        "# IMPORTANT: RUN THIS CELL IN ORDER TO IMPORT YOUR KAGGLE DATA SOURCES\n",
        "# TO THE CORRECT LOCATION (/kaggle/input) IN YOUR NOTEBOOK,\n",
        "# THEN FEEL FREE TO DELETE THIS CELL.\n",
        "# NOTE: THIS NOTEBOOK ENVIRONMENT DIFFERS FROM KAGGLE'S PYTHON\n",
        "# ENVIRONMENT SO THERE MAY BE MISSING LIBRARIES USED BY YOUR\n",
        "# NOTEBOOK.\n",
        "\n",
        "import os\n",
        "import sys\n",
        "from tempfile import NamedTemporaryFile\n",
        "from urllib.request import urlopen\n",
        "from urllib.parse import unquote, urlparse\n",
        "from urllib.error import HTTPError\n",
        "from zipfile import ZipFile\n",
        "import tarfile\n",
        "import shutil\n",
        "\n",
        "CHUNK_SIZE = 40960\n",
        "DATA_SOURCE_MAPPING = 'imdb-movie-reviews:https%3A%2F%2Fstorage.googleapis.com%2Fkaggle-data-sets%2F4815310%2F8143731%2Fbundle%2Farchive.zip%3FX-Goog-Algorithm%3DGOOG4-RSA-SHA256%26X-Goog-Credential%3Dgcp-kaggle-com%2540kaggle-161607.iam.gserviceaccount.com%252F20240803%252Fauto%252Fstorage%252Fgoog4_request%26X-Goog-Date%3D20240803T105716Z%26X-Goog-Expires%3D259200%26X-Goog-SignedHeaders%3Dhost%26X-Goog-Signature%3D5e90bb3810ba0481011d0d48d9ac9fa7f95bd99ba4d087e66873440a5306ef69f980404fcb9d3c230e02137500533ba6baf07809a47072133da214fbe862854f67778dc8926373af962ff90b3c7beea1284eb2062a13216689ebeaff98c8320dd8a56c976d01b1c2660fc89f6af4be9065c9dc61a04a7ee09727b6cfd08a64652ccead06a7885e5e4121fd9aab7341fd8907d182b6c21411cde4b6cd3ecc18a691b176cda6894b4cfb0285f46a042fe3df51cdd808d4f6236cc03a68ac106c2f0b59e0657150f96b55907f2a2e91ac4150c855f152a13c8cf6407c9532024615e5e1bd98572929e6a29a642e47680efb97ae68b6f1231028569abfbd14c672b5'\n",
        "\n",
        "KAGGLE_INPUT_PATH='/kaggle/input'\n",
        "KAGGLE_WORKING_PATH='/kaggle/working'\n",
        "KAGGLE_SYMLINK='kaggle'\n",
        "\n",
        "!umount /kaggle/input/ 2> /dev/null\n",
        "shutil.rmtree('/kaggle/input', ignore_errors=True)\n",
        "os.makedirs(KAGGLE_INPUT_PATH, 0o777, exist_ok=True)\n",
        "os.makedirs(KAGGLE_WORKING_PATH, 0o777, exist_ok=True)\n",
        "\n",
        "try:\n",
        "  os.symlink(KAGGLE_INPUT_PATH, os.path.join(\"..\", 'input'), target_is_directory=True)\n",
        "except FileExistsError:\n",
        "  pass\n",
        "try:\n",
        "  os.symlink(KAGGLE_WORKING_PATH, os.path.join(\"..\", 'working'), target_is_directory=True)\n",
        "except FileExistsError:\n",
        "  pass\n",
        "\n",
        "for data_source_mapping in DATA_SOURCE_MAPPING.split(','):\n",
        "    directory, download_url_encoded = data_source_mapping.split(':')\n",
        "    download_url = unquote(download_url_encoded)\n",
        "    filename = urlparse(download_url).path\n",
        "    destination_path = os.path.join(KAGGLE_INPUT_PATH, directory)\n",
        "    try:\n",
        "        with urlopen(download_url) as fileres, NamedTemporaryFile() as tfile:\n",
        "            total_length = fileres.headers['content-length']\n",
        "            print(f'Downloading {directory}, {total_length} bytes compressed')\n",
        "            dl = 0\n",
        "            data = fileres.read(CHUNK_SIZE)\n",
        "            while len(data) > 0:\n",
        "                dl += len(data)\n",
        "                tfile.write(data)\n",
        "                done = int(50 * dl / int(total_length))\n",
        "                sys.stdout.write(f\"\\r[{'=' * done}{' ' * (50-done)}] {dl} bytes downloaded\")\n",
        "                sys.stdout.flush()\n",
        "                data = fileres.read(CHUNK_SIZE)\n",
        "            if filename.endswith('.zip'):\n",
        "              with ZipFile(tfile) as zfile:\n",
        "                zfile.extractall(destination_path)\n",
        "            else:\n",
        "              with tarfile.open(tfile.name) as tarfile:\n",
        "                tarfile.extractall(destination_path)\n",
        "            print(f'\\nDownloaded and uncompressed: {directory}')\n",
        "    except HTTPError as e:\n",
        "        print(f'Failed to load (likely expired) {download_url} to path {destination_path}')\n",
        "        continue\n",
        "    except OSError as e:\n",
        "        print(f'Failed to load {download_url} to path {destination_path}')\n",
        "        continue\n",
        "\n",
        "print('Data source import complete.')\n"
      ],
      "metadata": {
        "id": "ImW-ZpYLQ36X"
      },
      "cell_type": "code",
      "outputs": [],
      "execution_count": null
    },
    {
      "cell_type": "markdown",
      "source": [
        "Dataset: IMDb Movie Reviews\n",
        "\n",
        "Skills Demonstrated:\n",
        "\n",
        "* Text Cleaning and Preprocessing\n",
        "* Exploratory Data Analysis on Text Data\n",
        "* Natural Language Processing (NLP) Techniques\n",
        "* Sentiment Classification (Naive Bayes, SVM, LSTM)\n",
        "* Model Evaluation (Accuracy, Precision, Recall, F1 Score)"
      ],
      "metadata": {
        "id": "y2B0Oj9yQ36p"
      }
    },
    {
      "cell_type": "code",
      "source": [
        "import pandas as pd\n",
        "import re\n",
        "import nltk\n",
        "from nltk.corpus import stopwords\n",
        "from nltk.stem import PorterStemmer\n",
        "import matplotlib.pyplot as plt\n",
        "import seaborn as sns\n",
        "from sklearn.feature_extraction.text import CountVectorizer, TfidfVectorizer\n",
        "from sklearn.model_selection import train_test_split\n",
        "from sklearn.naive_bayes import MultinomialNB\n",
        "from sklearn.svm import SVC\n",
        "from keras.models import Sequential\n",
        "from keras.layers import Dense, LSTM, Embedding, SpatialDropout1D\n",
        "from keras.preprocessing.sequence import pad_sequences\n",
        "from tensorflow.keras.preprocessing.text import Tokenizer\n",
        "from sklearn.metrics import accuracy_score, precision_score, recall_score, f1_score"
      ],
      "metadata": {
        "execution": {
          "iopub.status.busy": "2024-07-23T10:40:48.137535Z",
          "iopub.execute_input": "2024-07-23T10:40:48.138111Z",
          "iopub.status.idle": "2024-07-23T10:40:48.149255Z",
          "shell.execute_reply.started": "2024-07-23T10:40:48.138065Z",
          "shell.execute_reply": "2024-07-23T10:40:48.147937Z"
        },
        "trusted": true,
        "id": "qCHb1EfFQ36u"
      },
      "execution_count": null,
      "outputs": []
    },
    {
      "cell_type": "code",
      "source": [
        "# 2. Data Loading and Overview\n",
        "\n",
        "# Load the dataset\n",
        "df = pd.read_csv('/kaggle/input/imdb-movie-reviews/IMDB Dataset.csv')\n",
        "\n",
        "# Display the first few rows of the dataframe\n",
        "df.head()\n",
        "\n",
        "# Basic information about the dataset\n",
        "df.info()\n",
        "\n",
        "# Check for missing values\n",
        "df.isnull().sum()"
      ],
      "metadata": {
        "execution": {
          "iopub.status.busy": "2024-07-23T10:40:51.814854Z",
          "iopub.execute_input": "2024-07-23T10:40:51.815324Z",
          "iopub.status.idle": "2024-07-23T10:40:52.609553Z",
          "shell.execute_reply.started": "2024-07-23T10:40:51.815292Z",
          "shell.execute_reply": "2024-07-23T10:40:52.608302Z"
        },
        "trusted": true,
        "id": "XR0wySosQ36w"
      },
      "execution_count": null,
      "outputs": []
    },
    {
      "cell_type": "code",
      "source": [
        "# 3. Text Cleaning and Preprocessing\n",
        "\n",
        "stop_words = {\n",
        "    'i', 'me', 'my', 'myself', 'we', 'our', 'ours', 'ourselves', 'you', 'your', 'yours', 'yourself', 'yourselves',\n",
        "    'he', 'him', 'his', 'himself', 'she', 'her', 'hers', 'herself', 'it', 'its', 'itself', 'they', 'them', 'their',\n",
        "    'theirs', 'themselves', 'what', 'which', 'who', 'whom', 'this', 'that', 'these', 'those', 'am', 'is', 'are', 'was',\n",
        "    'were', 'be', 'been', 'being', 'have', 'has', 'had', 'having', 'do', 'does', 'did', 'doing', 'a', 'an', 'the',\n",
        "    'and', 'but', 'if', 'or', 'because', 'as', 'until', 'while', 'of', 'at', 'by', 'for', 'with', 'about', 'against',\n",
        "    'between', 'into', 'through', 'during', 'before', 'after', 'above', 'below', 'to', 'from', 'up', 'down', 'in',\n",
        "    'out', 'on', 'off', 'over', 'under', 'again', 'further', 'then', 'once', 'here', 'there', 'when', 'where', 'why',\n",
        "    'how', 'all', 'any', 'both', 'each', 'few', 'more', 'most', 'other', 'some', 'such', 'no', 'nor', 'not', 'only',\n",
        "    'own', 'same', 'so', 'than', 'too', 'very', 's', 't', 'can', 'will', 'just', 'don', 'should', 'now'\n",
        "}\n",
        "ps = PorterStemmer()\n",
        "\n",
        "def preprocess_text(text):\n",
        "    # Remove HTML tags\n",
        "    text = re.sub(r'<.*?>', '', text)\n",
        "    # Remove non-alphabetic characters\n",
        "    text = re.sub(r'[^a-zA-Z]', ' ', text)\n",
        "    # Convert to lowercase\n",
        "    text = text.lower()\n",
        "    # Tokenize\n",
        "    words = text.split()\n",
        "    # Remove stopwords and stem the words\n",
        "    words = [ps.stem(word) for word in words if word not in stop_words]\n",
        "    return ' '.join(words)\n",
        "\n",
        "df['cleaned_review'] = df['review'].apply(preprocess_text)\n",
        "\n",
        "# Display the first few cleaned reviews\n",
        "df[['review', 'cleaned_review']].head()"
      ],
      "metadata": {
        "execution": {
          "iopub.status.busy": "2024-07-23T10:40:52.611375Z",
          "iopub.execute_input": "2024-07-23T10:40:52.61175Z",
          "iopub.status.idle": "2024-07-23T10:45:00.808616Z",
          "shell.execute_reply.started": "2024-07-23T10:40:52.611719Z",
          "shell.execute_reply": "2024-07-23T10:45:00.807322Z"
        },
        "trusted": true,
        "id": "KIe_VaRyQ36x"
      },
      "execution_count": null,
      "outputs": []
    },
    {
      "cell_type": "code",
      "source": [
        "# 4. Exploratory Data Analysis (EDA)\n",
        "\n",
        "# Sentiment distribution\n",
        "sns.countplot(x='sentiment', data=df)\n",
        "plt.title('Sentiment Distribution')\n",
        "plt.show()\n",
        "\n",
        "# Review length distribution\n",
        "df['review_length'] = df['cleaned_review'].apply(lambda x: len(x.split()))\n",
        "sns.histplot(df['review_length'], bins=50, kde=True)\n",
        "plt.title('Review Length Distribution')\n",
        "plt.show()"
      ],
      "metadata": {
        "execution": {
          "iopub.status.busy": "2024-07-23T10:45:00.810895Z",
          "iopub.execute_input": "2024-07-23T10:45:00.81133Z",
          "iopub.status.idle": "2024-07-23T10:45:02.265159Z",
          "shell.execute_reply.started": "2024-07-23T10:45:00.811297Z",
          "shell.execute_reply": "2024-07-23T10:45:02.263852Z"
        },
        "trusted": true,
        "id": "ljb10ZTJQ360"
      },
      "execution_count": null,
      "outputs": []
    },
    {
      "cell_type": "code",
      "source": [
        "# 5. Natural Language Processing (NLP) Techniques\n",
        "\n",
        "# Bag of Words\n",
        "bow_vectorizer = CountVectorizer(max_features=5000)\n",
        "X_bow = bow_vectorizer.fit_transform(df['cleaned_review'])\n",
        "\n",
        "# TF-IDF\n",
        "tfidf_vectorizer = TfidfVectorizer(max_features=5000)\n",
        "X_tfidf = tfidf_vectorizer.fit_transform(df['cleaned_review'])"
      ],
      "metadata": {
        "execution": {
          "iopub.status.busy": "2024-07-23T10:45:02.266632Z",
          "iopub.execute_input": "2024-07-23T10:45:02.267009Z",
          "iopub.status.idle": "2024-07-23T10:45:18.457505Z",
          "shell.execute_reply.started": "2024-07-23T10:45:02.266977Z",
          "shell.execute_reply": "2024-07-23T10:45:18.456087Z"
        },
        "trusted": true,
        "id": "wvF5LaY2Q362"
      },
      "execution_count": null,
      "outputs": []
    },
    {
      "cell_type": "code",
      "source": [
        "# 6. Sentiment Classification Models\n",
        "\n",
        "y = df['sentiment'].apply(lambda x: 1 if x == 'positive' else 0)\n",
        "\n",
        "# Split data into training and testing sets\n",
        "# X_train_bow, X_test_bow, y_train, y_test = train_test_split(X_bow, y, test_size=0.2, random_state=42)\n",
        "# X_train_tfidf, X_test_tfidf = train_test_split(X_tfidf, test_size=0.2, random_state=42)\n",
        "\n",
        "## Naive Bayes\n",
        "# nb_model = MultinomialNB()\n",
        "# nb_model.fit(X_train_bow, y_train)\n",
        "# y_pred_nb = nb_model.predict(X_test_bow)\n",
        "\n",
        "## SVM\n",
        "# svm_model = SVC(kernel='linear')\n",
        "# svm_model.fit(X_train_tfidf, y_train)\n",
        "# y_pred_svm = svm_model.predict(X_test_tfidf)\n",
        "\n",
        "## LSTM\n",
        "tokenizer = Tokenizer(num_words=5000)\n",
        "tokenizer.fit_on_texts(df['cleaned_review'])\n",
        "X_seq = tokenizer.texts_to_sequences(df['cleaned_review'])\n",
        "X_padded = pad_sequences(X_seq, maxlen=500)\n",
        "\n",
        "X_train_lstm, X_test_lstm, y_train, y_test = train_test_split(X_padded, y, test_size=0.2, random_state=42)\n",
        "X_train2_lstm, X_val_lstm, y_train2, y_val = train_test_split(X_train_lstm, y_train, test_size=0.4, random_state=42)\n",
        "\n",
        "lstm_model = Sequential()\n",
        "lstm_model.add(Embedding(5000, 128, input_length=500))\n",
        "lstm_model.add(SpatialDropout1D(0.2))\n",
        "lstm_model.add(LSTM(100, dropout=0.2, recurrent_dropout=0.2))\n",
        "lstm_model.add(Dense(1, activation='sigmoid'))\n",
        "lstm_model.compile(loss='binary_crossentropy', optimizer='adam', metrics=['accuracy'])\n",
        "\n",
        "history = lstm_model.fit(X_train2_lstm, y_train2, epochs=1, batch_size=256, validation_data=(X_val_lstm, y_val))\n"
      ],
      "metadata": {
        "execution": {
          "iopub.status.busy": "2024-07-23T10:45:18.459656Z",
          "iopub.execute_input": "2024-07-23T10:45:18.460036Z",
          "iopub.status.idle": "2024-07-23T10:48:35.248113Z",
          "shell.execute_reply.started": "2024-07-23T10:45:18.460004Z",
          "shell.execute_reply": "2024-07-23T10:48:35.246785Z"
        },
        "trusted": true,
        "id": "ZjMkqVPsQ364"
      },
      "execution_count": null,
      "outputs": []
    },
    {
      "cell_type": "code",
      "source": [
        "# 7. Model Evaluation\n",
        "\n",
        "def evaluate_model(y_test, y_pred):\n",
        "    accuracy = accuracy_score(y_test, y_pred)\n",
        "    precision = precision_score(y_test, y_pred)\n",
        "    recall = recall_score(y_test, y_pred)\n",
        "    f1 = f1_score(y_test, y_pred)\n",
        "    return accuracy, precision, recall, f1\n",
        "\n",
        "## Naive Bayes Evaluation\n",
        "# acc_nb, prec_nb, rec_nb, f1_nb = evaluate_model(y_test, y_pred_nb)\n",
        "# print(f'Naive Bayes - Accuracy: {acc_nb}, Precision: {prec_nb}, Recall: {rec_nb}, F1 Score: {f1_nb}')\n",
        "\n",
        "## SVM Evaluation\n",
        "# acc_svm, prec_svm, rec_svm, f1_svm = evaluate_model(y_test, y_pred_svm)\n",
        "# print(f'SVM - Accuracy: {acc_svm}, Precision: {prec_svm}, Recall: {rec_svm}, F1 Score: {f1_svm}')\n",
        "\n",
        "## LSTM Evaluation\n",
        "y_pred_lstm = (lstm_model.predict(X_test_lstm) > 0.5).astype(\"int32\")\n",
        "acc_lstm, prec_lstm, rec_lstm, f1_lstm = evaluate_model(y_test, y_pred_lstm)\n",
        "print(f'LSTM - Accuracy: {acc_lstm}, Precision: {prec_lstm}, Recall: {rec_lstm}, F1 Score: {f1_lstm}')\n"
      ],
      "metadata": {
        "execution": {
          "iopub.status.busy": "2024-07-23T10:59:00.599822Z",
          "iopub.execute_input": "2024-07-23T10:59:00.600531Z",
          "iopub.status.idle": "2024-07-23T10:59:41.331258Z",
          "shell.execute_reply.started": "2024-07-23T10:59:00.600391Z",
          "shell.execute_reply": "2024-07-23T10:59:41.330018Z"
        },
        "trusted": true,
        "id": "0sNT3LqGQ367"
      },
      "execution_count": null,
      "outputs": []
    }
  ]
}